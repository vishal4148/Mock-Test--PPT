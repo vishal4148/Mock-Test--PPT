{
 "cells": [
  {
   "cell_type": "markdown",
   "id": "0aebbb5b",
   "metadata": {},
   "source": [
    "#### You are given two non-empty linked lists representing two non-negative integers. The digits are stored in reverse order, and each of their nodes contains a single digit. Add the two numbers and return the sum as a linked list.\n",
    "\n",
    "You may assume the two numbers do not contain any leading zero, except the number 0 itself.\n",
    "\n",
    "\n",
    "Example 1:\n",
    "\n",
    "Input: l1 = [2,4,3], l2 = [5,6,4] Output: [7,0,8] Explanation: 342 + 465 = 807.\n",
    "\n",
    "Example 2:\n",
    "\n",
    "Input: l1 = [0], l2 = [0] Output: [0]\n",
    "\n",
    "Example 3:\n",
    "\n",
    "Input: l1 = [9,9,9,9,9,9,9], l2 = [9,9,9,9] Output: [8,9,9,9,0,0,0,1]\n",
    "\n",
    " \n",
    "\n",
    "Constraints:\n",
    "\n",
    "The number of nodes in each linked list is in the range [1, 100].\n",
    "0 <= Node.val <= 9 It is guaranteed that the list represents a number that does not have leading zeros.\n",
    "\n",
    "\n",
    "\n",
    "Note: Create a GitHub file for the solution and add the file link the the answer section below."
   ]
  },
  {
   "cell_type": "code",
   "execution_count": 2,
   "id": "75187dc2",
   "metadata": {},
   "outputs": [],
   "source": [
    "class ListNode:\n",
    "    def __init__(self, val=0, next=None):\n",
    "        self.val = val\n",
    "        self.next = next\n",
    "\n",
    "def addTwoNumbers(l1, l2):\n",
    "    dummy = ListNode()  # Dummy node to track the head of the result linked list\n",
    "    current = dummy  # Pointer to traverse the result linked list\n",
    "    carry = 0  # Carry-over value initially set to 0\n",
    "\n",
    "    while l1 or l2 or carry:\n",
    "        # Get the values of the current nodes or 0 if either list is already traversed\n",
    "        x = l1.val if l1 else 0\n",
    "        y = l2.val if l2 else 0\n",
    "\n",
    "        # Compute the sum of the current digits and the carry-over\n",
    "        total = x + y + carry\n",
    "        carry = total // 10  # Calculate the carry-over\n",
    "        digit = total % 10  # Calculate the digit value\n",
    "\n",
    "        # Create a new node for the current digit and link it to the result linked list\n",
    "        current.next = ListNode(digit)\n",
    "        current = current.next\n",
    "\n",
    "        # Move to the next nodes in both input linked lists\n",
    "        l1 = l1.next if l1 else None\n",
    "        l2 = l2.next if l2 else None\n",
    "\n",
    "    return dummy.next  # Return the head of the resulting linked list\n",
    "\n",
    "# Helper function to convert a list to a linked list\n",
    "def createLinkedList(arr):\n",
    "    dummy = ListNode()\n",
    "    current = dummy\n",
    "    for num in arr:\n",
    "        current.next = ListNode(num)\n",
    "        current = current.next\n",
    "    return dummy.next\n",
    "\n",
    "# Helper function to convert a linked list to a list\n",
    "def linkedListToList(head):\n",
    "    result = []\n",
    "    current = head\n",
    "    while current:\n",
    "        result.append(current.val)\n",
    "        current = current.next\n",
    "    return result"
   ]
  },
  {
   "cell_type": "code",
   "execution_count": 3,
   "id": "8c6c18d5",
   "metadata": {},
   "outputs": [
    {
     "name": "stdout",
     "output_type": "stream",
     "text": [
      "[7, 0, 8]\n",
      "[0]\n",
      "[8, 9, 9, 9, 0, 0, 0, 1]\n"
     ]
    }
   ],
   "source": [
    "\n",
    "# Test cases\n",
    "l1 = createLinkedList([2, 4, 3])\n",
    "l2 = createLinkedList([5, 6, 4])\n",
    "result = addTwoNumbers(l1, l2)\n",
    "print(linkedListToList(result))  # Output: [7, 0, 8]\n",
    "\n",
    "l1 = createLinkedList([0])\n",
    "l2 = createLinkedList([0])\n",
    "result = addTwoNumbers(l1, l2)\n",
    "print(linkedListToList(result))  # Output: [0]\n",
    "\n",
    "l1 = createLinkedList([9, 9, 9, 9, 9, 9, 9])\n",
    "l2 = createLinkedList([9, 9, 9, 9])\n",
    "result = addTwoNumbers(l1, l2)\n",
    "print(linkedListToList(result))  # Output: [8, 9, 9, 9, 0, 0, 0, 1]"
   ]
  },
  {
   "cell_type": "code",
   "execution_count": null,
   "id": "4d51cd82",
   "metadata": {},
   "outputs": [],
   "source": []
  }
 ],
 "metadata": {
  "kernelspec": {
   "display_name": "Python 3 (ipykernel)",
   "language": "python",
   "name": "python3"
  },
  "language_info": {
   "codemirror_mode": {
    "name": "ipython",
    "version": 3
   },
   "file_extension": ".py",
   "mimetype": "text/x-python",
   "name": "python",
   "nbconvert_exporter": "python",
   "pygments_lexer": "ipython3",
   "version": "3.11.2"
  }
 },
 "nbformat": 4,
 "nbformat_minor": 5
}
